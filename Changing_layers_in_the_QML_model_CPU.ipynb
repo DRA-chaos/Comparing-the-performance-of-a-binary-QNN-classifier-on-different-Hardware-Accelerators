{
  "nbformat": 4,
  "nbformat_minor": 0,
  "metadata": {
    "colab": {
      "name": "Changing layers in the QML model CPU.ipynb",
      "provenance": [],
      "collapsed_sections": [
        "atxA-Hw4TpH7",
        "iMNmBHU_VIbH"
      ],
      "include_colab_link": true
    },
    "kernelspec": {
      "display_name": "Python 3",
      "name": "python3"
    },
    "language_info": {
      "name": "python"
    },
    "accelerator": "GPU"
  },
  "cells": [
    {
      "cell_type": "markdown",
      "metadata": {
        "id": "view-in-github",
        "colab_type": "text"
      },
      "source": [
        "<a href=\"https://colab.research.google.com/github/DRA-chaos/Comparing-the-performance-of-a-binary-QNN-classifier-on-different-Hardware-Accelerators/blob/main/Changing_layers_in_the_QML_model_CPU.ipynb\" target=\"_parent\"><img src=\"https://colab.research.google.com/assets/colab-badge.svg\" alt=\"Open In Colab\"/></a>"
      ]
    },
    {
      "cell_type": "code",
      "metadata": {
        "colab": {
          "base_uri": "https://localhost:8080/"
        },
        "id": "teJ_UcpWr5yd",
        "outputId": "c5383001-a2e8-40e6-ccc5-bb644b3b2cf6"
      },
      "source": [
        "!pip install tensorflow==2.4.1"
      ],
      "execution_count": null,
      "outputs": [
        {
          "output_type": "stream",
          "text": [
            "Collecting tensorflow==2.4.1\n",
            "  Downloading tensorflow-2.4.1-cp37-cp37m-manylinux2010_x86_64.whl (394.3 MB)\n",
            "\u001b[K     |████████████████████████████████| 394.3 MB 14 kB/s \n",
            "\u001b[?25hRequirement already satisfied: wheel~=0.35 in /usr/local/lib/python3.7/dist-packages (from tensorflow==2.4.1) (0.36.2)\n",
            "Requirement already satisfied: wrapt~=1.12.1 in /usr/local/lib/python3.7/dist-packages (from tensorflow==2.4.1) (1.12.1)\n",
            "Requirement already satisfied: google-pasta~=0.2 in /usr/local/lib/python3.7/dist-packages (from tensorflow==2.4.1) (0.2.0)\n",
            "Requirement already satisfied: keras-preprocessing~=1.1.2 in /usr/local/lib/python3.7/dist-packages (from tensorflow==2.4.1) (1.1.2)\n",
            "Requirement already satisfied: termcolor~=1.1.0 in /usr/local/lib/python3.7/dist-packages (from tensorflow==2.4.1) (1.1.0)\n",
            "Requirement already satisfied: six~=1.15.0 in /usr/local/lib/python3.7/dist-packages (from tensorflow==2.4.1) (1.15.0)\n",
            "Collecting gast==0.3.3\n",
            "  Downloading gast-0.3.3-py2.py3-none-any.whl (9.7 kB)\n",
            "Requirement already satisfied: tensorboard~=2.4 in /usr/local/lib/python3.7/dist-packages (from tensorflow==2.4.1) (2.5.0)\n",
            "Requirement already satisfied: absl-py~=0.10 in /usr/local/lib/python3.7/dist-packages (from tensorflow==2.4.1) (0.12.0)\n",
            "Requirement already satisfied: opt-einsum~=3.3.0 in /usr/local/lib/python3.7/dist-packages (from tensorflow==2.4.1) (3.3.0)\n",
            "Collecting tensorflow-estimator<2.5.0,>=2.4.0\n",
            "  Downloading tensorflow_estimator-2.4.0-py2.py3-none-any.whl (462 kB)\n",
            "\u001b[K     |████████████████████████████████| 462 kB 70.0 MB/s \n",
            "\u001b[?25hRequirement already satisfied: typing-extensions~=3.7.4 in /usr/local/lib/python3.7/dist-packages (from tensorflow==2.4.1) (3.7.4.3)\n",
            "Requirement already satisfied: numpy~=1.19.2 in /usr/local/lib/python3.7/dist-packages (from tensorflow==2.4.1) (1.19.5)\n",
            "Collecting grpcio~=1.32.0\n",
            "  Downloading grpcio-1.32.0-cp37-cp37m-manylinux2014_x86_64.whl (3.8 MB)\n",
            "\u001b[K     |████████████████████████████████| 3.8 MB 58.1 MB/s \n",
            "\u001b[?25hRequirement already satisfied: protobuf>=3.9.2 in /usr/local/lib/python3.7/dist-packages (from tensorflow==2.4.1) (3.17.3)\n",
            "Requirement already satisfied: flatbuffers~=1.12.0 in /usr/local/lib/python3.7/dist-packages (from tensorflow==2.4.1) (1.12)\n",
            "Requirement already satisfied: astunparse~=1.6.3 in /usr/local/lib/python3.7/dist-packages (from tensorflow==2.4.1) (1.6.3)\n",
            "Collecting h5py~=2.10.0\n",
            "  Downloading h5py-2.10.0-cp37-cp37m-manylinux1_x86_64.whl (2.9 MB)\n",
            "\u001b[K     |████████████████████████████████| 2.9 MB 47.5 MB/s \n",
            "\u001b[?25hRequirement already satisfied: markdown>=2.6.8 in /usr/local/lib/python3.7/dist-packages (from tensorboard~=2.4->tensorflow==2.4.1) (3.3.4)\n",
            "Requirement already satisfied: werkzeug>=0.11.15 in /usr/local/lib/python3.7/dist-packages (from tensorboard~=2.4->tensorflow==2.4.1) (1.0.1)\n",
            "Requirement already satisfied: google-auth<2,>=1.6.3 in /usr/local/lib/python3.7/dist-packages (from tensorboard~=2.4->tensorflow==2.4.1) (1.32.1)\n",
            "Requirement already satisfied: requests<3,>=2.21.0 in /usr/local/lib/python3.7/dist-packages (from tensorboard~=2.4->tensorflow==2.4.1) (2.23.0)\n",
            "Requirement already satisfied: google-auth-oauthlib<0.5,>=0.4.1 in /usr/local/lib/python3.7/dist-packages (from tensorboard~=2.4->tensorflow==2.4.1) (0.4.4)\n",
            "Requirement already satisfied: tensorboard-plugin-wit>=1.6.0 in /usr/local/lib/python3.7/dist-packages (from tensorboard~=2.4->tensorflow==2.4.1) (1.8.0)\n",
            "Requirement already satisfied: setuptools>=41.0.0 in /usr/local/lib/python3.7/dist-packages (from tensorboard~=2.4->tensorflow==2.4.1) (57.2.0)\n",
            "Requirement already satisfied: tensorboard-data-server<0.7.0,>=0.6.0 in /usr/local/lib/python3.7/dist-packages (from tensorboard~=2.4->tensorflow==2.4.1) (0.6.1)\n",
            "Requirement already satisfied: rsa<5,>=3.1.4 in /usr/local/lib/python3.7/dist-packages (from google-auth<2,>=1.6.3->tensorboard~=2.4->tensorflow==2.4.1) (4.7.2)\n",
            "Requirement already satisfied: cachetools<5.0,>=2.0.0 in /usr/local/lib/python3.7/dist-packages (from google-auth<2,>=1.6.3->tensorboard~=2.4->tensorflow==2.4.1) (4.2.2)\n",
            "Requirement already satisfied: pyasn1-modules>=0.2.1 in /usr/local/lib/python3.7/dist-packages (from google-auth<2,>=1.6.3->tensorboard~=2.4->tensorflow==2.4.1) (0.2.8)\n",
            "Requirement already satisfied: requests-oauthlib>=0.7.0 in /usr/local/lib/python3.7/dist-packages (from google-auth-oauthlib<0.5,>=0.4.1->tensorboard~=2.4->tensorflow==2.4.1) (1.3.0)\n",
            "Requirement already satisfied: importlib-metadata in /usr/local/lib/python3.7/dist-packages (from markdown>=2.6.8->tensorboard~=2.4->tensorflow==2.4.1) (4.6.1)\n",
            "Requirement already satisfied: pyasn1<0.5.0,>=0.4.6 in /usr/local/lib/python3.7/dist-packages (from pyasn1-modules>=0.2.1->google-auth<2,>=1.6.3->tensorboard~=2.4->tensorflow==2.4.1) (0.4.8)\n",
            "Requirement already satisfied: certifi>=2017.4.17 in /usr/local/lib/python3.7/dist-packages (from requests<3,>=2.21.0->tensorboard~=2.4->tensorflow==2.4.1) (2021.5.30)\n",
            "Requirement already satisfied: urllib3!=1.25.0,!=1.25.1,<1.26,>=1.21.1 in /usr/local/lib/python3.7/dist-packages (from requests<3,>=2.21.0->tensorboard~=2.4->tensorflow==2.4.1) (1.24.3)\n",
            "Requirement already satisfied: chardet<4,>=3.0.2 in /usr/local/lib/python3.7/dist-packages (from requests<3,>=2.21.0->tensorboard~=2.4->tensorflow==2.4.1) (3.0.4)\n",
            "Requirement already satisfied: idna<3,>=2.5 in /usr/local/lib/python3.7/dist-packages (from requests<3,>=2.21.0->tensorboard~=2.4->tensorflow==2.4.1) (2.10)\n",
            "Requirement already satisfied: oauthlib>=3.0.0 in /usr/local/lib/python3.7/dist-packages (from requests-oauthlib>=0.7.0->google-auth-oauthlib<0.5,>=0.4.1->tensorboard~=2.4->tensorflow==2.4.1) (3.1.1)\n",
            "Requirement already satisfied: zipp>=0.5 in /usr/local/lib/python3.7/dist-packages (from importlib-metadata->markdown>=2.6.8->tensorboard~=2.4->tensorflow==2.4.1) (3.5.0)\n",
            "Installing collected packages: grpcio, tensorflow-estimator, h5py, gast, tensorflow\n",
            "  Attempting uninstall: grpcio\n",
            "    Found existing installation: grpcio 1.34.1\n",
            "    Uninstalling grpcio-1.34.1:\n",
            "      Successfully uninstalled grpcio-1.34.1\n",
            "  Attempting uninstall: tensorflow-estimator\n",
            "    Found existing installation: tensorflow-estimator 2.5.0\n",
            "    Uninstalling tensorflow-estimator-2.5.0:\n",
            "      Successfully uninstalled tensorflow-estimator-2.5.0\n",
            "  Attempting uninstall: h5py\n",
            "    Found existing installation: h5py 3.1.0\n",
            "    Uninstalling h5py-3.1.0:\n",
            "      Successfully uninstalled h5py-3.1.0\n",
            "  Attempting uninstall: gast\n",
            "    Found existing installation: gast 0.4.0\n",
            "    Uninstalling gast-0.4.0:\n",
            "      Successfully uninstalled gast-0.4.0\n",
            "  Attempting uninstall: tensorflow\n",
            "    Found existing installation: tensorflow 2.5.0\n",
            "    Uninstalling tensorflow-2.5.0:\n",
            "      Successfully uninstalled tensorflow-2.5.0\n",
            "Successfully installed gast-0.3.3 grpcio-1.32.0 h5py-2.10.0 tensorflow-2.4.1 tensorflow-estimator-2.4.0\n"
          ],
          "name": "stdout"
        }
      ]
    },
    {
      "cell_type": "code",
      "metadata": {
        "colab": {
          "base_uri": "https://localhost:8080/",
          "height": 1000
        },
        "id": "saFHsRDpkvkH",
        "outputId": "55714164-b6cb-4e89-ae7b-715498589da3"
      },
      "source": [
        "!pip install tensorflow-quantum"
      ],
      "execution_count": null,
      "outputs": [
        {
          "output_type": "stream",
          "text": [
            "Collecting tensorflow-quantum\n",
            "  Downloading tensorflow_quantum-0.5.1-cp37-cp37m-manylinux_2_12_x86_64.manylinux2010_x86_64.whl (7.8 MB)\n",
            "\u001b[K     |████████████████████████████████| 7.8 MB 6.0 MB/s \n",
            "\u001b[?25hCollecting google-auth==1.18.0\n",
            "  Downloading google_auth-1.18.0-py2.py3-none-any.whl (90 kB)\n",
            "\u001b[K     |████████████████████████████████| 90 kB 11.5 MB/s \n",
            "\u001b[?25hCollecting sympy==1.5\n",
            "  Downloading sympy-1.5-py2.py3-none-any.whl (5.6 MB)\n",
            "\u001b[K     |████████████████████████████████| 5.6 MB 31.4 MB/s \n",
            "\u001b[?25hCollecting cirq==0.11.0\n",
            "  Downloading cirq-0.11.0-py3-none-any.whl (7.6 kB)\n",
            "Collecting protobuf==3.13.0\n",
            "  Downloading protobuf-3.13.0-cp37-cp37m-manylinux1_x86_64.whl (1.3 MB)\n",
            "\u001b[K     |████████████████████████████████| 1.3 MB 68.8 MB/s \n",
            "\u001b[?25hCollecting googleapis-common-protos==1.52.0\n",
            "  Downloading googleapis_common_protos-1.52.0-py2.py3-none-any.whl (100 kB)\n",
            "\u001b[K     |████████████████████████████████| 100 kB 11.1 MB/s \n",
            "\u001b[?25hCollecting google-api-core==1.21.0\n",
            "  Downloading google_api_core-1.21.0-py2.py3-none-any.whl (90 kB)\n",
            "\u001b[K     |████████████████████████████████| 90 kB 9.9 MB/s \n",
            "\u001b[?25hCollecting cirq-core==0.11.0\n",
            "  Downloading cirq_core-0.11.0-py3-none-any.whl (1.5 MB)\n",
            "\u001b[K     |████████████████████████████████| 1.5 MB 49.8 MB/s \n",
            "\u001b[?25hCollecting cirq-google==0.11.0\n",
            "  Downloading cirq_google-0.11.0-py3-none-any.whl (380 kB)\n",
            "\u001b[K     |████████████████████████████████| 380 kB 74.7 MB/s \n",
            "\u001b[?25hRequirement already satisfied: numpy~=1.16 in /usr/local/lib/python3.7/dist-packages (from cirq-core==0.11.0->cirq==0.11.0->tensorflow-quantum) (1.19.5)\n",
            "Requirement already satisfied: scipy in /usr/local/lib/python3.7/dist-packages (from cirq-core==0.11.0->cirq==0.11.0->tensorflow-quantum) (1.4.1)\n",
            "Requirement already satisfied: requests~=2.18 in /usr/local/lib/python3.7/dist-packages (from cirq-core==0.11.0->cirq==0.11.0->tensorflow-quantum) (2.23.0)\n",
            "Requirement already satisfied: tqdm in /usr/local/lib/python3.7/dist-packages (from cirq-core==0.11.0->cirq==0.11.0->tensorflow-quantum) (4.41.1)\n",
            "Requirement already satisfied: typing-extensions in /usr/local/lib/python3.7/dist-packages (from cirq-core==0.11.0->cirq==0.11.0->tensorflow-quantum) (3.7.4.3)\n",
            "Requirement already satisfied: networkx~=2.4 in /usr/local/lib/python3.7/dist-packages (from cirq-core==0.11.0->cirq==0.11.0->tensorflow-quantum) (2.5.1)\n",
            "Requirement already satisfied: pandas in /usr/local/lib/python3.7/dist-packages (from cirq-core==0.11.0->cirq==0.11.0->tensorflow-quantum) (1.1.5)\n",
            "Requirement already satisfied: sortedcontainers~=2.0 in /usr/local/lib/python3.7/dist-packages (from cirq-core==0.11.0->cirq==0.11.0->tensorflow-quantum) (2.4.0)\n",
            "Requirement already satisfied: matplotlib~=3.0 in /usr/local/lib/python3.7/dist-packages (from cirq-core==0.11.0->cirq==0.11.0->tensorflow-quantum) (3.2.2)\n",
            "Requirement already satisfied: google-api-core[grpc]<2.0.0dev,>=1.14.0 in /usr/local/lib/python3.7/dist-packages (from cirq-google==0.11.0->cirq==0.11.0->tensorflow-quantum) (1.26.3)\n",
            "Requirement already satisfied: setuptools>=34.0.0 in /usr/local/lib/python3.7/dist-packages (from google-api-core==1.21.0->tensorflow-quantum) (57.2.0)\n",
            "Requirement already satisfied: pytz in /usr/local/lib/python3.7/dist-packages (from google-api-core==1.21.0->tensorflow-quantum) (2018.9)\n",
            "Requirement already satisfied: six>=1.10.0 in /usr/local/lib/python3.7/dist-packages (from google-api-core==1.21.0->tensorflow-quantum) (1.15.0)\n",
            "Requirement already satisfied: rsa<5,>=3.1.4 in /usr/local/lib/python3.7/dist-packages (from google-auth==1.18.0->tensorflow-quantum) (4.7.2)\n",
            "Requirement already satisfied: pyasn1-modules>=0.2.1 in /usr/local/lib/python3.7/dist-packages (from google-auth==1.18.0->tensorflow-quantum) (0.2.8)\n",
            "Requirement already satisfied: cachetools<5.0,>=2.0.0 in /usr/local/lib/python3.7/dist-packages (from google-auth==1.18.0->tensorflow-quantum) (4.2.2)\n",
            "Requirement already satisfied: mpmath>=0.19 in /usr/local/lib/python3.7/dist-packages (from sympy==1.5->tensorflow-quantum) (1.2.1)\n",
            "Collecting google-api-core[grpc]<2.0.0dev,>=1.14.0\n",
            "  Downloading google_api_core-1.31.1-py2.py3-none-any.whl (93 kB)\n",
            "\u001b[K     |████████████████████████████████| 93 kB 1.5 MB/s \n",
            "\u001b[?25h  Downloading google_api_core-1.31.0-py2.py3-none-any.whl (93 kB)\n",
            "\u001b[K     |████████████████████████████████| 93 kB 1.6 MB/s \n",
            "\u001b[?25h  Downloading google_api_core-1.30.0-py2.py3-none-any.whl (93 kB)\n",
            "\u001b[K     |████████████████████████████████| 93 kB 1.7 MB/s \n",
            "\u001b[?25h  Downloading google_api_core-1.29.0-py2.py3-none-any.whl (93 kB)\n",
            "\u001b[K     |████████████████████████████████| 93 kB 1.5 MB/s \n",
            "\u001b[?25h  Downloading google_api_core-1.28.0-py2.py3-none-any.whl (92 kB)\n",
            "\u001b[K     |████████████████████████████████| 92 kB 1.3 MB/s \n",
            "\u001b[?25h  Downloading google_api_core-1.27.0-py2.py3-none-any.whl (93 kB)\n",
            "\u001b[K     |████████████████████████████████| 93 kB 1.3 MB/s \n",
            "\u001b[?25h  Downloading google_api_core-1.26.2-py2.py3-none-any.whl (93 kB)\n",
            "\u001b[K     |████████████████████████████████| 93 kB 1.3 MB/s \n",
            "\u001b[?25h  Downloading google_api_core-1.26.1-py2.py3-none-any.whl (92 kB)\n",
            "\u001b[K     |████████████████████████████████| 92 kB 1.3 MB/s \n",
            "\u001b[?25h  Downloading google_api_core-1.26.0-py2.py3-none-any.whl (92 kB)\n",
            "\u001b[K     |████████████████████████████████| 92 kB 1.2 MB/s \n",
            "\u001b[?25h  Downloading google_api_core-1.25.1-py2.py3-none-any.whl (92 kB)\n",
            "\u001b[K     |████████████████████████████████| 92 kB 276 kB/s \n",
            "\u001b[?25h  Downloading google_api_core-1.25.0-py2.py3-none-any.whl (92 kB)\n",
            "\u001b[K     |████████████████████████████████| 92 kB 209 kB/s \n",
            "\u001b[?25h  Downloading google_api_core-1.24.1-py2.py3-none-any.whl (92 kB)\n",
            "\u001b[K     |████████████████████████████████| 92 kB 13.0 MB/s \n",
            "\u001b[?25h  Downloading google_api_core-1.24.0-py2.py3-none-any.whl (91 kB)\n",
            "\u001b[K     |████████████████████████████████| 91 kB 12.2 MB/s \n",
            "\u001b[?25h  Downloading google_api_core-1.23.0-py2.py3-none-any.whl (91 kB)\n",
            "\u001b[K     |████████████████████████████████| 91 kB 12.6 MB/s \n",
            "\u001b[?25h  Downloading google_api_core-1.22.4-py2.py3-none-any.whl (91 kB)\n",
            "\u001b[K     |████████████████████████████████| 91 kB 11.1 MB/s \n",
            "\u001b[?25h  Downloading google_api_core-1.22.3-py2.py3-none-any.whl (91 kB)\n",
            "\u001b[K     |████████████████████████████████| 91 kB 11.0 MB/s \n",
            "\u001b[?25h  Downloading google_api_core-1.22.2-py2.py3-none-any.whl (91 kB)\n",
            "\u001b[K     |████████████████████████████████| 91 kB 12.7 MB/s \n",
            "\u001b[?25h  Downloading google_api_core-1.22.1-py2.py3-none-any.whl (91 kB)\n",
            "\u001b[K     |████████████████████████████████| 91 kB 12.0 MB/s \n",
            "\u001b[?25h  Downloading google_api_core-1.22.0-py2.py3-none-any.whl (91 kB)\n",
            "\u001b[K     |████████████████████████████████| 91 kB 10.7 MB/s \n",
            "\u001b[?25hRequirement already satisfied: grpcio<2.0dev,>=1.29.0 in /usr/local/lib/python3.7/dist-packages (from google-api-core==1.21.0->tensorflow-quantum) (1.32.0)\n",
            "Requirement already satisfied: pyparsing!=2.0.4,!=2.1.2,!=2.1.6,>=2.0.1 in /usr/local/lib/python3.7/dist-packages (from matplotlib~=3.0->cirq-core==0.11.0->cirq==0.11.0->tensorflow-quantum) (2.4.7)\n",
            "Requirement already satisfied: kiwisolver>=1.0.1 in /usr/local/lib/python3.7/dist-packages (from matplotlib~=3.0->cirq-core==0.11.0->cirq==0.11.0->tensorflow-quantum) (1.3.1)\n",
            "Requirement already satisfied: cycler>=0.10 in /usr/local/lib/python3.7/dist-packages (from matplotlib~=3.0->cirq-core==0.11.0->cirq==0.11.0->tensorflow-quantum) (0.10.0)\n",
            "Requirement already satisfied: python-dateutil>=2.1 in /usr/local/lib/python3.7/dist-packages (from matplotlib~=3.0->cirq-core==0.11.0->cirq==0.11.0->tensorflow-quantum) (2.8.1)\n",
            "Requirement already satisfied: decorator<5,>=4.3 in /usr/local/lib/python3.7/dist-packages (from networkx~=2.4->cirq-core==0.11.0->cirq==0.11.0->tensorflow-quantum) (4.4.2)\n",
            "Requirement already satisfied: pyasn1<0.5.0,>=0.4.6 in /usr/local/lib/python3.7/dist-packages (from pyasn1-modules>=0.2.1->google-auth==1.18.0->tensorflow-quantum) (0.4.8)\n",
            "Requirement already satisfied: urllib3!=1.25.0,!=1.25.1,<1.26,>=1.21.1 in /usr/local/lib/python3.7/dist-packages (from requests~=2.18->cirq-core==0.11.0->cirq==0.11.0->tensorflow-quantum) (1.24.3)\n",
            "Requirement already satisfied: certifi>=2017.4.17 in /usr/local/lib/python3.7/dist-packages (from requests~=2.18->cirq-core==0.11.0->cirq==0.11.0->tensorflow-quantum) (2021.5.30)\n",
            "Requirement already satisfied: chardet<4,>=3.0.2 in /usr/local/lib/python3.7/dist-packages (from requests~=2.18->cirq-core==0.11.0->cirq==0.11.0->tensorflow-quantum) (3.0.4)\n",
            "Requirement already satisfied: idna<3,>=2.5 in /usr/local/lib/python3.7/dist-packages (from requests~=2.18->cirq-core==0.11.0->cirq==0.11.0->tensorflow-quantum) (2.10)\n",
            "Installing collected packages: protobuf, googleapis-common-protos, google-auth, sympy, google-api-core, cirq-core, cirq-google, cirq, tensorflow-quantum\n",
            "  Attempting uninstall: protobuf\n",
            "    Found existing installation: protobuf 3.17.3\n",
            "    Uninstalling protobuf-3.17.3:\n",
            "      Successfully uninstalled protobuf-3.17.3\n",
            "  Attempting uninstall: googleapis-common-protos\n",
            "    Found existing installation: googleapis-common-protos 1.53.0\n",
            "    Uninstalling googleapis-common-protos-1.53.0:\n",
            "      Successfully uninstalled googleapis-common-protos-1.53.0\n",
            "  Attempting uninstall: google-auth\n",
            "    Found existing installation: google-auth 1.32.1\n",
            "    Uninstalling google-auth-1.32.1:\n",
            "      Successfully uninstalled google-auth-1.32.1\n",
            "  Attempting uninstall: sympy\n",
            "    Found existing installation: sympy 1.7.1\n",
            "    Uninstalling sympy-1.7.1:\n",
            "      Successfully uninstalled sympy-1.7.1\n",
            "  Attempting uninstall: google-api-core\n",
            "    Found existing installation: google-api-core 1.26.3\n",
            "    Uninstalling google-api-core-1.26.3:\n",
            "      Successfully uninstalled google-api-core-1.26.3\n",
            "Successfully installed cirq-0.11.0 cirq-core-0.11.0 cirq-google-0.11.0 google-api-core-1.21.0 google-auth-1.18.0 googleapis-common-protos-1.52.0 protobuf-3.13.0 sympy-1.5 tensorflow-quantum-0.5.1\n"
          ],
          "name": "stdout"
        },
        {
          "output_type": "display_data",
          "data": {
            "application/vnd.colab-display-data+json": {
              "pip_warning": {
                "packages": [
                  "google"
                ]
              }
            }
          },
          "metadata": {
            "tags": []
          }
        }
      ]
    },
    {
      "cell_type": "code",
      "metadata": {
        "id": "enZ300Bflq80"
      },
      "source": [
        "import tensorflow as tf\n",
        "import tensorflow_quantum as tfq\n",
        "\n",
        "import cirq\n",
        "import sympy\n",
        "import numpy as np\n",
        "import seaborn as sns\n",
        "import collections\n",
        "\n",
        "# visualization tools\n",
        "%matplotlib inline\n",
        "import matplotlib.pyplot as plt\n",
        "from cirq.contrib.svg import SVGCircuit"
      ],
      "execution_count": null,
      "outputs": []
    },
    {
      "cell_type": "markdown",
      "metadata": {
        "id": "-NmLKYCrvv9L"
      },
      "source": [
        "# **Loading raw MNIST data**\n"
      ]
    },
    {
      "cell_type": "code",
      "metadata": {
        "colab": {
          "base_uri": "https://localhost:8080/"
        },
        "id": "d9OSExvCojg0",
        "outputId": "872ff636-3c40-4829-9472-0e63d3dfbbfd"
      },
      "source": [
        "(x_train, y_train), (x_test, y_test) = tf.keras.datasets.mnist.load_data()\n",
        "\n",
        "# Rescaling images from [0,255] to the [0.0,1.0] range.\n",
        "x_train, x_test = x_train[..., np.newaxis]/255.0, x_test[..., np.newaxis]/255.0  #Normalization\n",
        "\n",
        "print(\"Number of original training examples:\", len(x_train))\n",
        "print(\"Number of original test examples:\", len(x_test))"
      ],
      "execution_count": null,
      "outputs": [
        {
          "output_type": "stream",
          "text": [
            "Downloading data from https://storage.googleapis.com/tensorflow/tf-keras-datasets/mnist.npz\n",
            "11493376/11490434 [==============================] - 0s 0us/step\n",
            "Number of original training examples: 60000\n",
            "Number of original test examples: 10000\n"
          ],
          "name": "stdout"
        }
      ]
    },
    {
      "cell_type": "markdown",
      "metadata": {
        "id": "iFXwNKW4wEkw"
      },
      "source": [
        "**We filter the dataset to first classify / recognize only 2 and 4. We make the label y into a boolean variable, true for 2 and false for 4**\n"
      ]
    },
    {
      "cell_type": "code",
      "metadata": {
        "id": "HMYuKUTewRZh"
      },
      "source": [
        "def filter_24(x, y):\n",
        "    keep = (y == 2) | (y == 4)\n",
        "    x, y = x[keep], y[keep]\n",
        "    y = y == 2\n",
        "    return x,y"
      ],
      "execution_count": null,
      "outputs": []
    },
    {
      "cell_type": "code",
      "metadata": {
        "colab": {
          "base_uri": "https://localhost:8080/"
        },
        "id": "63tmK8DxwfTc",
        "outputId": "e80ff784-4356-466a-c8c8-5ebc67a0f76e"
      },
      "source": [
        "x_train, y_train = filter_24(x_train, y_train)\n",
        "x_test, y_test = filter_24(x_test, y_test)\n",
        "\n",
        "print(\"Number of filtered training examples:\", len(x_train))\n",
        "print(\"Number of filtered test examples:\", len(x_test))"
      ],
      "execution_count": null,
      "outputs": [
        {
          "output_type": "stream",
          "text": [
            "Number of filtered training examples: 11800\n",
            "Number of filtered test examples: 2014\n"
          ],
          "name": "stdout"
        }
      ]
    },
    {
      "cell_type": "markdown",
      "metadata": {
        "id": "i0QFOCBR3tnn"
      },
      "source": [
        "First example from the dataset printed just for reference"
      ]
    },
    {
      "cell_type": "code",
      "metadata": {
        "colab": {
          "base_uri": "https://localhost:8080/",
          "height": 302
        },
        "id": "m1JRCw-rxdDc",
        "outputId": "18a0d470-e68e-4911-891a-112924b98ee6"
      },
      "source": [
        "print(y_train[0])\n",
        "\n",
        "plt.imshow(x_train[0, :, :, 0])\n",
        "plt.colorbar()"
      ],
      "execution_count": null,
      "outputs": [
        {
          "output_type": "stream",
          "text": [
            "False\n"
          ],
          "name": "stdout"
        },
        {
          "output_type": "execute_result",
          "data": {
            "text/plain": [
              "<matplotlib.colorbar.Colorbar at 0x7f094009be10>"
            ]
          },
          "metadata": {
            "tags": []
          },
          "execution_count": 7
        },
        {
          "output_type": "display_data",
          "data": {
            "image/png": "[encoded data removed]",
            "text/plain": [
              "<Figure size 432x288 with 2 Axes>"
            ]
          },
          "metadata": {
            "tags": [],
            "needs_background": "light"
          }
        }
      ]
    },
    {
      "cell_type": "markdown",
      "metadata": {
        "id": "kYwtKfwPx92p"
      },
      "source": [
        "# **Downscaling the Image. Resizing is necessary because 28x28 is too large a dimension**\n",
        "\n",
        "# In this code, I initially tried sclaing it to 5x5 but it took way too long to execute, so I chose the scaling size to be at 3x3. "
      ]
    },
    {
      "cell_type": "code",
      "metadata": {
        "id": "9sdjUaaWyAbL"
      },
      "source": [
        "x_train_small = tf.image.resize(x_train, (3,3)).numpy()\n",
        "x_test_small = tf.image.resize(x_test, (3,3)).numpy()"
      ],
      "execution_count": null,
      "outputs": []
    },
    {
      "cell_type": "markdown",
      "metadata": {
        "id": "OUGoF6PiLoan"
      },
      "source": [
        "Displaying the first training example- after resize"
      ]
    },
    {
      "cell_type": "code",
      "metadata": {
        "colab": {
          "base_uri": "https://localhost:8080/",
          "height": 302
        },
        "id": "YIYOtCRIGL6y",
        "scrolled": true,
        "outputId": "cb86b530-dd72-4d30-cb95-a1219c2465b2"
      },
      "source": [
        "print(y_train[0])\n",
        "\n",
        "plt.imshow(x_train_small[0,:,:,0], vmin=0, vmax=1)\n",
        "plt.colorbar()"
      ],
      "execution_count": null,
      "outputs": [
        {
          "output_type": "stream",
          "text": [
            "False\n"
          ],
          "name": "stdout"
        },
        {
          "output_type": "execute_result",
          "data": {
            "text/plain": [
              "<matplotlib.colorbar.Colorbar at 0x7f092b906f90>"
            ]
          },
          "metadata": {
            "tags": []
          },
          "execution_count": 9
        },
        {
          "output_type": "display_data",
          "data": {
            "image/png": "[encoded data removed]",
            "text/plain": [
              "<Figure size 432x288 with 2 Axes>"
            ]
          },
          "metadata": {
            "tags": [],
            "needs_background": "light"
          }
        }
      ]
    },
    {
      "cell_type": "markdown",
      "metadata": {
        "id": "K4ceXNkAMtON"
      },
      "source": [
        "# **Filtering the dataset to remove samples that belong to both classes so as to improve the performance and accuracy of classification**"
      ]
    },
    {
      "cell_type": "code",
      "metadata": {
        "id": "LfunUAMo0YST"
      },
      "source": [
        "##not necessary\n",
        "def remove_contradicting(xs, ys):\n",
        "    mapping = collections.defaultdict(set)\n",
        "    orig_x = {}\n",
        "    # Determine the set of labels for each unique image:\n",
        "    for x,y in zip(xs,ys):\n",
        "       orig_x[tuple(x.flatten())] = x\n",
        "       mapping[tuple(x.flatten())].add(y)\n",
        "    \n",
        "    new_x = []\n",
        "    new_y = []\n",
        "    for flatten_x in mapping:\n",
        "      x = orig_x[flatten_x]\n",
        "      labels = mapping[flatten_x]\n",
        "      if len(labels) == 1:\n",
        "          new_x.append(x)\n",
        "          new_y.append(next(iter(labels)))\n",
        "      else:\n",
        "          # Throw out images that match more than one label.\n",
        "          pass\n",
        "    \n",
        "    num_uniq_2 = sum(1 for value in mapping.values() if len(value) == 1 and True in value)\n",
        "    num_uniq_4 = sum(1 for value in mapping.values() if len(value) == 1 and False in value)\n",
        "    num_uniq_both = sum(1 for value in mapping.values() if len(value) == 2)\n",
        "\n",
        "    print(\"Number of unique images:\", len(mapping.values()))\n",
        "    print(\"Number of unique 2s: \", num_uniq_2)\n",
        "    print(\"Number of unique 4s: \", num_uniq_4)\n",
        "    print(\"Number of unique contradicting labels (both 2 and 4): \", num_uniq_both)\n",
        "    print()\n",
        "    print(\"Initial number of images: \", len(xs))\n",
        "    print(\"Remaining non-contradicting unique images: \", len(new_x))\n",
        "    \n",
        "    return np.array(new_x), np.array(new_y)"
      ],
      "execution_count": null,
      "outputs": []
    },
    {
      "cell_type": "code",
      "metadata": {
        "id": "CkXWvMpX0pQb"
      },
      "source": [
        "x_train_nocon, y_train_nocon = x_train_small, y_train"
      ],
      "execution_count": null,
      "outputs": []
    },
    {
      "cell_type": "markdown",
      "metadata": {
        "id": "kU2GIl5GSKB8"
      },
      "source": [
        "## We now encode data using binary encoding into Quantum Circuits"
      ]
    },
    {
      "cell_type": "code",
      "metadata": {
        "id": "rbzayeYy0rtq"
      },
      "source": [
        "#binary encoding\n",
        "THRESHOLD = 0.5\n",
        "\n",
        "x_train_bin = np.array(x_train_nocon > THRESHOLD, dtype=np.float32)\n",
        "x_test_bin = np.array(x_test_small > THRESHOLD, dtype=np.float32)"
      ],
      "execution_count": null,
      "outputs": []
    },
    {
      "cell_type": "code",
      "metadata": {
        "colab": {
          "base_uri": "https://localhost:8080/"
        },
        "id": "_rKmd7AO2cX5",
        "outputId": "1cea9158-fc7b-40a3-d0b2-2058ef6a3935"
      },
      "source": [
        "_ = remove_contradicting(x_train_bin, y_train_nocon)"
      ],
      "execution_count": null,
      "outputs": [
        {
          "output_type": "stream",
          "text": [
            "Number of unique images: 57\n",
            "Number of unique 2s:  23\n",
            "Number of unique 4s:  14\n",
            "Number of unique contradicting labels (both 2 and 4):  20\n",
            "\n",
            "Initial number of images:  10786\n",
            "Remaining non-contradicting unique images:  37\n"
          ],
          "name": "stdout"
        }
      ]
    },
    {
      "cell_type": "code",
      "metadata": {
        "id": "V_GMOCwf2uhy"
      },
      "source": [
        "def convert_to_circuit(image):\n",
        "    \"\"\"Encode truncated classical image into quantum datapoint.\"\"\"\n",
        "    values = np.ndarray.flatten(image)\n",
        "    qubits = cirq.GridQubit.rect(3, 3)\n",
        "    circuit = cirq.Circuit()\n",
        "    for i, value in enumerate(values):\n",
        "        if value:\n",
        "            circuit.append(cirq.X(qubits[i]))\n",
        "    return circuit\n",
        "\n",
        "\n",
        "x_train_circ = [convert_to_circuit(x) for x in x_train_bin]\n",
        "x_test_circ = [convert_to_circuit(x) for x in x_test_bin]"
      ],
      "execution_count": null,
      "outputs": []
    },
    {
      "cell_type": "code",
      "metadata": {
        "colab": {
          "base_uri": "https://localhost:8080/",
          "height": 88
        },
        "id": "k779JFDz21ic",
        "outputId": "c4e132dd-feda-4282-a125-df5313988675"
      },
      "source": [
        "SVGCircuit(x_train_circ[0])"
      ],
      "execution_count": null,
      "outputs": [
        {
          "output_type": "stream",
          "text": [
            "findfont: Font family ['Arial'] not found. Falling back to DejaVu Sans.\n"
          ],
          "name": "stderr"
        },
        {
          "output_type": "execute_result",
          "data": {
            "text/plain": [
              "<cirq.contrib.svg.svg.SVGCircuit at 0x7f092a774450>"
            ],
            "image/svg+xml": "<svg xmlns=\"http://www.w3.org/2000/svg\" width=\"169.517734375\" height=\"50.0\"><line x1=\"34.7588671875\" x2=\"139.517734375\" y1=\"25.0\" y2=\"25.0\" stroke=\"#1967d2\" stroke-width=\"1\" /><rect x=\"10.0\" y=\"5.0\" width=\"49.517734375\" height=\"40\" stroke=\"black\" fill=\"white\" stroke-width=\"0\" /><text x=\"34.7588671875\" y=\"25.0\" dominant-baseline=\"middle\" text-anchor=\"middle\" font-size=\"14px\" font-family=\"Arial\">(1, 0): </text><rect x=\"79.517734375\" y=\"5.0\" width=\"40\" height=\"40\" stroke=\"black\" fill=\"white\" stroke-width=\"1\" /><text x=\"99.517734375\" y=\"25.0\" dominant-baseline=\"middle\" text-anchor=\"middle\" font-size=\"18px\" font-family=\"Arial\">X</text></svg>"
          },
          "metadata": {
            "tags": []
          },
          "execution_count": 14
        }
      ]
    },
    {
      "cell_type": "code",
      "metadata": {
        "colab": {
          "base_uri": "https://localhost:8080/"
        },
        "id": "BP8OnqEu23Mu",
        "outputId": "af5a4581-d15a-47f8-c547-1bf10834088e"
      },
      "source": [
        "bin_img = x_train_bin[0,:,:,0]\n",
        "indices = np.array(np.where(bin_img)).T\n",
        "indices"
      ],
      "execution_count": null,
      "outputs": [
        {
          "output_type": "execute_result",
          "data": {
            "text/plain": [
              "array([[1, 0]])"
            ]
          },
          "metadata": {
            "tags": []
          },
          "execution_count": 15
        }
      ]
    },
    {
      "cell_type": "code",
      "metadata": {
        "id": "oMLNgYmE29Lf"
      },
      "source": [
        "x_train_tfcirc = tfq.convert_to_tensor(x_train_circ)\n",
        "x_test_tfcirc = tfq.convert_to_tensor(x_test_circ)"
      ],
      "execution_count": null,
      "outputs": []
    },
    {
      "cell_type": "markdown",
      "metadata": {
        "id": "MWYn7-jF3Iqb"
      },
      "source": [
        "# Quantum Neural Network\n",
        "Building the model circuit (here using 2 qubit gates)"
      ]
    },
    {
      "cell_type": "code",
      "metadata": {
        "id": "Q3p2t0pm3Tc9"
      },
      "source": [
        "class CircuitLayerBuilder():\n",
        "    def __init__(self, data_qubits, readout):\n",
        "        self.data_qubits = data_qubits\n",
        "        self.readout = readout\n",
        "    \n",
        "    def add_layer(self, circuit, gate, prefix):\n",
        "        for i, qubit in enumerate(self.data_qubits):\n",
        "            symbol = sympy.Symbol(prefix + '-' + str(i))\n",
        "            circuit.append(gate(qubit, self.readout)**symbol)"
      ],
      "execution_count": null,
      "outputs": []
    },
    {
      "cell_type": "code",
      "metadata": {
        "colab": {
          "base_uri": "https://localhost:8080/",
          "height": 221
        },
        "id": "qltY8eW63XHL",
        "outputId": "7777050b-3b46-41c9-cf8a-dcb817ddf62f"
      },
      "source": [
        "demo_builder = CircuitLayerBuilder(data_qubits = cirq.GridQubit.rect(3,1),\n",
        "                                   readout=cirq.GridQubit(-1,-1))\n",
        "\n",
        "circuit = cirq.Circuit()\n",
        "demo_builder.add_layer(circuit, gate = cirq.XX, prefix='xx')\n",
        "SVGCircuit(circuit)"
      ],
      "execution_count": null,
      "outputs": [
        {
          "output_type": "execute_result",
          "data": {
            "text/plain": [
              "<cirq.contrib.svg.svg.SVGCircuit at 0x7f092a5cc250>"
            ],
            "image/svg+xml": "<svg xmlns=\"http://www.w3.org/2000/svg\" width=\"421.85496093750004\" height=\"200.0\"><line x1=\"39.810625\" x2=\"391.85496093750004\" y1=\"25.0\" y2=\"25.0\" stroke=\"#1967d2\" stroke-width=\"1\" /><line x1=\"39.810625\" x2=\"391.85496093750004\" y1=\"75.0\" y2=\"75.0\" stroke=\"#1967d2\" stroke-width=\"1\" /><line x1=\"39.810625\" x2=\"391.85496093750004\" y1=\"125.0\" y2=\"125.0\" stroke=\"#1967d2\" stroke-width=\"1\" /><line x1=\"39.810625\" x2=\"391.85496093750004\" y1=\"175.0\" y2=\"175.0\" stroke=\"#1967d2\" stroke-width=\"1\" /><line x1=\"129.99353515625\" x2=\"129.99353515625\" y1=\"25.0\" y2=\"75.0\" stroke=\"black\" stroke-width=\"3\" /><line x1=\"230.73810546875004\" x2=\"230.73810546875004\" y1=\"25.0\" y2=\"125.0\" stroke=\"black\" stroke-width=\"3\" /><line x1=\"331.48267578125007\" x2=\"331.48267578125007\" y1=\"25.0\" y2=\"175.0\" stroke=\"black\" stroke-width=\"3\" /><rect x=\"10.0\" y=\"5.0\" width=\"59.62125\" height=\"40\" stroke=\"black\" fill=\"white\" stroke-width=\"0\" /><text x=\"39.810625\" y=\"25.0\" dominant-baseline=\"middle\" text-anchor=\"middle\" font-size=\"14px\" font-family=\"Arial\">(-1, -1): </text><rect x=\"10.0\" y=\"55.0\" width=\"59.62125\" height=\"40\" stroke=\"black\" fill=\"white\" stroke-width=\"0\" /><text x=\"39.810625\" y=\"75.0\" dominant-baseline=\"middle\" text-anchor=\"middle\" font-size=\"14px\" font-family=\"Arial\">(0, 0): </text><rect x=\"10.0\" y=\"105.0\" width=\"59.62125\" height=\"40\" stroke=\"black\" fill=\"white\" stroke-width=\"0\" /><text x=\"39.810625\" y=\"125.0\" dominant-baseline=\"middle\" text-anchor=\"middle\" font-size=\"14px\" font-family=\"Arial\">(1, 0): </text><rect x=\"10.0\" y=\"155.0\" width=\"59.62125\" height=\"40\" stroke=\"black\" fill=\"white\" stroke-width=\"0\" /><text x=\"39.810625\" y=\"175.0\" dominant-baseline=\"middle\" text-anchor=\"middle\" font-size=\"14px\" font-family=\"Arial\">(2, 0): </text><rect x=\"89.62125\" y=\"55.0\" width=\"80.74457031250002\" height=\"40\" stroke=\"black\" fill=\"white\" stroke-width=\"1\" /><text x=\"129.99353515625\" y=\"75.0\" dominant-baseline=\"middle\" text-anchor=\"middle\" font-size=\"14px\" font-family=\"Arial\">XX^(xx-0)</text><rect x=\"89.62125\" y=\"5.0\" width=\"80.74457031250002\" height=\"40\" stroke=\"black\" fill=\"white\" stroke-width=\"1\" /><text x=\"129.99353515625\" y=\"25.0\" dominant-baseline=\"middle\" text-anchor=\"middle\" font-size=\"14px\" font-family=\"Arial\">XX</text><rect x=\"190.36582031250003\" y=\"105.0\" width=\"80.74457031250002\" height=\"40\" stroke=\"black\" fill=\"white\" stroke-width=\"1\" /><text x=\"230.73810546875004\" y=\"125.0\" dominant-baseline=\"middle\" text-anchor=\"middle\" font-size=\"14px\" font-family=\"Arial\">XX^(xx-1)</text><rect x=\"190.36582031250003\" y=\"5.0\" width=\"80.74457031250002\" height=\"40\" stroke=\"black\" fill=\"white\" stroke-width=\"1\" /><text x=\"230.73810546875004\" y=\"25.0\" dominant-baseline=\"middle\" text-anchor=\"middle\" font-size=\"14px\" font-family=\"Arial\">XX</text><rect x=\"291.11039062500004\" y=\"155.0\" width=\"80.74457031250002\" height=\"40\" stroke=\"black\" fill=\"white\" stroke-width=\"1\" /><text x=\"331.48267578125007\" y=\"175.0\" dominant-baseline=\"middle\" text-anchor=\"middle\" font-size=\"14px\" font-family=\"Arial\">XX^(xx-2)</text><rect x=\"291.11039062500004\" y=\"5.0\" width=\"80.74457031250002\" height=\"40\" stroke=\"black\" fill=\"white\" stroke-width=\"1\" /><text x=\"331.48267578125007\" y=\"25.0\" dominant-baseline=\"middle\" text-anchor=\"middle\" font-size=\"14px\" font-family=\"Arial\">XX</text></svg>"
          },
          "metadata": {
            "tags": []
          },
          "execution_count": 18
        }
      ]
    },
    {
      "cell_type": "markdown",
      "metadata": {
        "id": "SQZtnk-CT7UW"
      },
      "source": [
        "We now prepare the 2 qubit model with readout and preparation operations"
      ]
    },
    {
      "cell_type": "code",
      "metadata": {
        "id": "YYooXzE_3gMj"
      },
      "source": [
        ""
      ],
      "execution_count": null,
      "outputs": []
    },
    {
      "cell_type": "code",
      "metadata": {
        "id": "ZqB875ErmZZq"
      },
      "source": [
        "def create_quantum_model():\n",
        "    \n",
        "    data_qubits = cirq.GridQubit.rect(3, 3)  # a 3x3 grid.\n",
        "    readout = cirq.GridQubit(-1, -1)         # a single qubit at [-1,-1]\n",
        "    circuit = cirq.Circuit()\n",
        "    \n",
        "    # Prepare the readout qubit.\n",
        "    circuit.append(cirq.X(readout))\n",
        "    circuit.append(cirq.H(readout))\n",
        "    circuit.append(cirq.H(readout))#additional hadamard gate added\n",
        "\n",
        "    \n",
        "    builder = CircuitLayerBuilder(\n",
        "        data_qubits = data_qubits,\n",
        "        readout=readout)\n",
        "\n",
        "    # Then add layers (experiment by adding more).\n",
        "    builder.add_layer(circuit, cirq.XX, \"xx1\")\n",
        "    builder.add_layer(circuit, cirq.ZZ, \"zz1\")\n",
        "\n",
        "    # Finally, prepare the readout qubit.\n",
        "    circuit.append(cirq.H(readout))\n",
        "\n",
        "    return circuit, cirq.Z(readout)"
      ],
      "execution_count": null,
      "outputs": []
    },
    {
      "cell_type": "code",
      "metadata": {
        "id": "RneHeU8N4cS-"
      },
      "source": [
        "model_circuit, model_readout = create_quantum_model()"
      ],
      "execution_count": null,
      "outputs": []
    },
    {
      "cell_type": "markdown",
      "metadata": {
        "id": "VH-kDvFSUK9d"
      },
      "source": [
        "# **Integrating Cirq with TensorFlow Quantum**\n",
        "We attempt to build the keras model with Quantum components. The model uses a parametrized quantum circuit to train the model circuit on quantum data so obtained from x_train_circ"
      ]
    },
    {
      "cell_type": "code",
      "metadata": {
        "id": "MDNeTiry4hMs"
      },
      "source": [
        "# Build the Keras model.\n",
        "model = tf.keras.Sequential([\n",
        "    # The input is the data-circuit, encoded as a tf.string\n",
        "    tf.keras.layers.Input(shape=(), dtype=tf.string),\n",
        "    # The PQC layer returns the expected value of the readout gate, range [-1,1].\n",
        "    tfq.layers.PQC(model_circuit, model_readout),\n",
        "])"
      ],
      "execution_count": null,
      "outputs": []
    },
    {
      "cell_type": "code",
      "metadata": {
        "id": "hw4ymaaq4kky"
      },
      "source": [
        "y_train_hinge = 2.0*y_train_nocon-1.0\n",
        "y_test_hinge = 2.0*y_test-1.0"
      ],
      "execution_count": null,
      "outputs": []
    },
    {
      "cell_type": "code",
      "metadata": {
        "id": "mx0w0N8a4l64"
      },
      "source": [
        "def hinge_accuracy(y_true, y_pred):\n",
        "    y_true = tf.squeeze(y_true) > 0.0\n",
        "    y_pred = tf.squeeze(y_pred) > 0.0\n",
        "    result = tf.cast(y_true == y_pred, tf.float32)\n",
        "\n",
        "    return tf.reduce_mean(result)"
      ],
      "execution_count": null,
      "outputs": []
    },
    {
      "cell_type": "markdown",
      "metadata": {
        "id": "a6Y0CNn1X3vI"
      },
      "source": [
        "We now train the model using compile and Hinge Loss, we consider the Adam optimizer"
      ]
    },
    {
      "cell_type": "code",
      "metadata": {
        "id": "u0MfPtVC4s9Z"
      },
      "source": [
        "model.compile(\n",
        "    loss=tf.keras.losses.Hinge(),\n",
        "    optimizer=tf.keras.optimizers.Adam(),\n",
        "    metrics=[hinge_accuracy])"
      ],
      "execution_count": null,
      "outputs": []
    },
    {
      "cell_type": "code",
      "metadata": {
        "id": "KbaENAquSgs_"
      },
      "source": [
        ""
      ],
      "execution_count": null,
      "outputs": []
    },
    {
      "cell_type": "code",
      "metadata": {
        "colab": {
          "base_uri": "https://localhost:8080/"
        },
        "id": "ydex8MiW4uMA",
        "outputId": "432440eb-57d8-4b7d-f740-c7b3f08cec92"
      },
      "source": [
        "print(model.summary())"
      ],
      "execution_count": null,
      "outputs": [
        {
          "output_type": "stream",
          "text": [
            "Model: \"sequential\"\n",
            "_________________________________________________________________\n",
            "Layer (type)                 Output Shape              Param #   \n",
            "=================================================================\n",
            "pqc (PQC)                    (None, 1)                 18        \n",
            "=================================================================\n",
            "Total params: 18\n",
            "Trainable params: 18\n",
            "Non-trainable params: 0\n",
            "_________________________________________________________________\n",
            "None\n"
          ],
          "name": "stdout"
        }
      ]
    },
    {
      "cell_type": "code",
      "metadata": {
        "id": "KnimDMqU5n_C"
      },
      "source": [
        ""
      ],
      "execution_count": null,
      "outputs": []
    },
    {
      "cell_type": "markdown",
      "metadata": {
        "id": "AzT5eNsW5tDw"
      },
      "source": [
        "# **Training the Quantum Model**"
      ]
    },
    {
      "cell_type": "code",
      "metadata": {
        "id": "nCSnDZUq2_Gs"
      },
      "source": [
        "EPOCHS = 3\n",
        "BATCH_SIZE = 32\n",
        "\n",
        "NUM_EXAMPLES = len(x_train_tfcirc)"
      ],
      "execution_count": null,
      "outputs": []
    },
    {
      "cell_type": "code",
      "metadata": {
        "id": "pKYVcCryh5Td"
      },
      "source": [
        "x_train_tfcirc_sub = x_train_tfcirc[:5000]\n",
        "y_train_hinge_sub = y_train_hinge[:5000]"
      ],
      "execution_count": null,
      "outputs": []
    },
    {
      "cell_type": "code",
      "metadata": {
        "colab": {
          "base_uri": "https://localhost:8080/"
        },
        "id": "YVWQTljU2_Z7",
        "outputId": "ee994436-73ee-4b0a-a451-ee45cd47d04c"
      },
      "source": [
        "qnn_history = model.fit(\n",
        "      x_train_tfcirc_sub, y_train_hinge_sub,\n",
        "      batch_size=32,\n",
        "      epochs=EPOCHS,\n",
        "      verbose=1,\n",
        "      validation_data=(x_test_tfcirc, y_test_hinge))\n",
        "\n",
        "qnn_results = model.evaluate(x_test_tfcirc, y_test)"
      ],
      "execution_count": null,
      "outputs": [
        {
          "output_type": "stream",
          "text": [
            "Epoch 1/3\n",
            "157/157 [==============================] - 7s 39ms/step - loss: 1.0000 - hinge_accuracy: 0.4718 - val_loss: 1.0000 - val_hinge_accuracy: 0.4905\n",
            "Epoch 2/3\n",
            "157/157 [==============================] - 5s 34ms/step - loss: 1.0000 - hinge_accuracy: 0.5423 - val_loss: 1.0000 - val_hinge_accuracy: 0.5991\n",
            "Epoch 3/3\n",
            "157/157 [==============================] - 5s 34ms/step - loss: 1.0000 - hinge_accuracy: 0.5487 - val_loss: 1.0000 - val_hinge_accuracy: 0.5624\n",
            "63/63 [==============================] - 1s 14ms/step - loss: 1.0000 - hinge_accuracy: 0.5624\n"
          ],
          "name": "stdout"
        }
      ]
    },
    {
      "cell_type": "code",
      "metadata": {
        "id": "yXwX_coAlnyQ"
      },
      "source": [
        ""
      ],
      "execution_count": null,
      "outputs": []
    },
    {
      "cell_type": "code",
      "metadata": {
        "colab": {
          "base_uri": "https://localhost:8080/"
        },
        "id": "_Mb59in8loDD",
        "outputId": "e5040c2a-d548-41ad-b528-2ad9b5442b54"
      },
      "source": [
        "EPOCHS = 5\n",
        "BATCH_SIZE = 18\n",
        "\n",
        "NUM_EXAMPLES = len(x_train_tfcirc)\n",
        "x_train_tfcirc_sub = x_train_tfcirc[:3000]\n",
        "y_train_hinge_sub = y_train_hinge[:3000]\n",
        "\n",
        "qnn_history = model.fit(\n",
        "      x_train_tfcirc_sub, y_train_hinge_sub,\n",
        "      batch_size=18,\n",
        "      epochs=EPOCHS,\n",
        "      verbose=1,\n",
        "      validation_data=(x_test_tfcirc, y_test_hinge))\n",
        "\n",
        "qnn_results = model.evaluate(x_test_tfcirc, y_test)"
      ],
      "execution_count": null,
      "outputs": [
        {
          "output_type": "stream",
          "text": [
            "Epoch 1/5\n",
            "167/167 [==============================] - 4s 25ms/step - loss: 1.0000 - hinge_accuracy: 0.5966 - val_loss: 1.0000 - val_hinge_accuracy: 0.6261\n",
            "Epoch 2/5\n",
            "167/167 [==============================] - 4s 24ms/step - loss: 1.0000 - hinge_accuracy: 0.6193 - val_loss: 1.0000 - val_hinge_accuracy: 0.6275\n",
            "Epoch 3/5\n",
            "167/167 [==============================] - 4s 24ms/step - loss: 1.0000 - hinge_accuracy: 0.6083 - val_loss: 1.0000 - val_hinge_accuracy: 0.5843\n",
            "Epoch 4/5\n",
            "167/167 [==============================] - 4s 24ms/step - loss: 1.0000 - hinge_accuracy: 0.5843 - val_loss: 1.0000 - val_hinge_accuracy: 0.5758\n",
            "Epoch 5/5\n",
            "167/167 [==============================] - 4s 24ms/step - loss: 1.0000 - hinge_accuracy: 0.5667 - val_loss: 1.0000 - val_hinge_accuracy: 0.5361\n",
            "63/63 [==============================] - 1s 14ms/step - loss: 1.0000 - hinge_accuracy: 0.5361\n"
          ],
          "name": "stdout"
        }
      ]
    },
    {
      "cell_type": "code",
      "metadata": {
        "id": "VXguLY57loPl"
      },
      "source": [
        ""
      ],
      "execution_count": null,
      "outputs": []
    },
    {
      "cell_type": "code",
      "metadata": {
        "id": "A1qPqLlQloeK"
      },
      "source": [
        "def create_quantum_model():\n",
        "    \n",
        "    data_qubits = cirq.GridQubit.rect(3, 3)  # a 3x3 grid.\n",
        "    readout = cirq.GridQubit(-1, -1)         # a single qubit at [-1,-1]\n",
        "    circuit = cirq.Circuit()\n",
        "    \n",
        "    # Prepare the readout qubit.\n",
        "    circuit.append(cirq.X(readout))\n",
        "    circuit.append(cirq.H(readout))\n",
        "    \n",
        "    builder = CircuitLayerBuilder(\n",
        "        data_qubits = data_qubits,\n",
        "        readout=readout)\n",
        "\n",
        "    # Then add layers (experiment by adding more).\n",
        "    builder.add_layer(circuit, cirq.XX, \"xx1\")\n",
        "    builder.add_layer(circuit, cirq.ZZ, \"zz1\")\n",
        "    builder.add_layer(circuit, cirq.ZZ, \"zz1\")\n",
        "\n",
        "    # Finally, prepare the readout qubit.\n",
        "    circuit.append(cirq.H(readout))\n",
        "\n",
        "    return circuit, cirq.Z(readout)"
      ],
      "execution_count": null,
      "outputs": []
    },
    {
      "cell_type": "code",
      "metadata": {
        "id": "BwTZcK_dqMmq"
      },
      "source": [
        ""
      ],
      "execution_count": null,
      "outputs": []
    },
    {
      "cell_type": "code",
      "metadata": {
        "colab": {
          "base_uri": "https://localhost:8080/"
        },
        "id": "Ow7Cj1lMqM1U",
        "outputId": "6b3739d8-5892-4892-fe18-1040259ca4f3"
      },
      "source": [
        "EPOCHS = 5\n",
        "BATCH_SIZE = 18\n",
        "\n",
        "NUM_EXAMPLES = len(x_train_tfcirc)\n",
        "x_train_tfcirc_sub = x_train_tfcirc[:1000]\n",
        "y_train_hinge_sub = y_train_hinge[:1000]\n",
        "\n",
        "qnn_history = model.fit(\n",
        "      x_train_tfcirc_sub, y_train_hinge_sub,\n",
        "      batch_size=18,\n",
        "      epochs=EPOCHS,\n",
        "      verbose=1,\n",
        "      validation_data=(x_test_tfcirc, y_test_hinge))\n",
        "\n",
        "qnn_results = model.evaluate(x_test_tfcirc, y_test)"
      ],
      "execution_count": null,
      "outputs": [
        {
          "output_type": "stream",
          "text": [
            "Epoch 1/5\n",
            "56/56 [==============================] - 2s 34ms/step - loss: 1.0000 - hinge_accuracy: 0.6020 - val_loss: 1.0000 - val_hinge_accuracy: 0.5411\n",
            "Epoch 2/5\n",
            "56/56 [==============================] - 2s 33ms/step - loss: 1.0000 - hinge_accuracy: 0.6004 - val_loss: 1.0000 - val_hinge_accuracy: 0.5436\n",
            "Epoch 3/5\n",
            "56/56 [==============================] - 2s 33ms/step - loss: 1.0000 - hinge_accuracy: 0.6030 - val_loss: 1.0000 - val_hinge_accuracy: 0.5481\n",
            "Epoch 4/5\n",
            "56/56 [==============================] - 2s 32ms/step - loss: 1.0000 - hinge_accuracy: 0.6024 - val_loss: 1.0000 - val_hinge_accuracy: 0.5436\n",
            "Epoch 5/5\n",
            "56/56 [==============================] - 2s 33ms/step - loss: 1.0000 - hinge_accuracy: 0.6056 - val_loss: 1.0000 - val_hinge_accuracy: 0.5436\n",
            "63/63 [==============================] - 1s 14ms/step - loss: 1.0000 - hinge_accuracy: 0.5436\n"
          ],
          "name": "stdout"
        }
      ]
    },
    {
      "cell_type": "code",
      "metadata": {
        "colab": {
          "base_uri": "https://localhost:8080/"
        },
        "id": "njyrMwizqNAf",
        "outputId": "33a9da31-b788-41e0-843f-bc50a09641e2"
      },
      "source": [
        "EPOCHS = 5\n",
        "BATCH_SIZE = 32\n",
        "\n",
        "NUM_EXAMPLES = len(x_train_tfcirc)\n",
        "x_train_tfcirc_sub = x_train_tfcirc[:1000]\n",
        "y_train_hinge_sub = y_train_hinge[:1000]\n",
        "\n",
        "qnn_history = model.fit(\n",
        "      x_train_tfcirc_sub, y_train_hinge_sub,\n",
        "      batch_size=18,\n",
        "      epochs=EPOCHS,\n",
        "      verbose=1,\n",
        "      validation_data=(x_test_tfcirc, y_test_hinge))\n",
        "\n",
        "qnn_results = model.evaluate(x_test_tfcirc, y_test)"
      ],
      "execution_count": null,
      "outputs": [
        {
          "output_type": "stream",
          "text": [
            "Epoch 1/5\n",
            "56/56 [==============================] - 2s 36ms/step - loss: 1.0000 - hinge_accuracy: 0.6050 - val_loss: 1.0000 - val_hinge_accuracy: 0.5436\n",
            "Epoch 2/5\n",
            "56/56 [==============================] - 2s 36ms/step - loss: 1.0000 - hinge_accuracy: 0.6024 - val_loss: 1.0000 - val_hinge_accuracy: 0.5431\n",
            "Epoch 3/5\n",
            "56/56 [==============================] - 2s 36ms/step - loss: 1.0000 - hinge_accuracy: 0.6050 - val_loss: 1.0000 - val_hinge_accuracy: 0.5436\n",
            "Epoch 4/5\n",
            "56/56 [==============================] - 2s 36ms/step - loss: 1.0000 - hinge_accuracy: 0.6042 - val_loss: 1.0000 - val_hinge_accuracy: 0.5431\n",
            "Epoch 5/5\n",
            "56/56 [==============================] - 2s 36ms/step - loss: 1.0000 - hinge_accuracy: 0.6040 - val_loss: 1.0000 - val_hinge_accuracy: 0.5431\n",
            "63/63 [==============================] - 1s 15ms/step - loss: 1.0000 - hinge_accuracy: 0.5431\n"
          ],
          "name": "stdout"
        }
      ]
    },
    {
      "cell_type": "code",
      "metadata": {
        "id": "IYMn2Hpj2_iA",
        "colab": {
          "base_uri": "https://localhost:8080/"
        },
        "outputId": "cea2759b-af8c-46dd-bf45-bad456031a80"
      },
      "source": [
        "EPOCHS = 5\n",
        "BATCH_SIZE = 32\n",
        "\n",
        "NUM_EXAMPLES = len(x_train_tfcirc)\n",
        "x_train_tfcirc_sub = x_train_tfcirc[:2000]\n",
        "y_train_hinge_sub = y_train_hinge[:2000]\n",
        "\n",
        "qnn_history = model.fit(\n",
        "      x_train_tfcirc_sub, y_train_hinge_sub,\n",
        "      batch_size=32,\n",
        "      epochs=EPOCHS,\n",
        "      verbose=1,\n",
        "      validation_data=(x_test_tfcirc, y_test_hinge))\n",
        "\n",
        "qnn_results = model.evaluate(x_test_tfcirc, y_test)"
      ],
      "execution_count": null,
      "outputs": [
        {
          "output_type": "stream",
          "text": [
            "Epoch 1/5\n",
            "63/63 [==============================] - 3s 43ms/step - loss: 1.0000 - hinge_accuracy: 0.5784 - val_loss: 1.0000 - val_hinge_accuracy: 0.5431\n",
            "Epoch 2/5\n",
            "63/63 [==============================] - 3s 43ms/step - loss: 1.0000 - hinge_accuracy: 0.5779 - val_loss: 1.0000 - val_hinge_accuracy: 0.5431\n",
            "Epoch 3/5\n",
            "63/63 [==============================] - 3s 46ms/step - loss: 1.0000 - hinge_accuracy: 0.5774 - val_loss: 1.0000 - val_hinge_accuracy: 0.5431\n",
            "Epoch 4/5\n",
            "63/63 [==============================] - 3s 46ms/step - loss: 1.0000 - hinge_accuracy: 0.5774 - val_loss: 1.0000 - val_hinge_accuracy: 0.5431\n",
            "Epoch 5/5\n",
            "63/63 [==============================] - 3s 46ms/step - loss: 1.0000 - hinge_accuracy: 0.5774 - val_loss: 1.0000 - val_hinge_accuracy: 0.5421\n",
            "63/63 [==============================] - 1s 16ms/step - loss: 1.0000 - hinge_accuracy: 0.5421\n"
          ],
          "name": "stdout"
        }
      ]
    },
    {
      "cell_type": "markdown",
      "metadata": {
        "id": "52tD3aI8QrVD"
      },
      "source": [
        "Samples = 200\n",
        "Epochs =3 \n",
        "Optimizer= Adam      45.08%%"
      ]
    },
    {
      "cell_type": "code",
      "metadata": {
        "id": "H67wbiD15vbr"
      },
      "source": [
        "EPOCHS = 3\n",
        "BATCH_SIZE = 32\n",
        "\n",
        "NUM_EXAMPLES = len(x_train_tfcirc)"
      ],
      "execution_count": null,
      "outputs": []
    },
    {
      "cell_type": "markdown",
      "metadata": {
        "id": "iaiCYTMqeFdN"
      },
      "source": [
        "# **NUM_EXAMPLES has a total sample size of 10409 records. Such a huge dataset was taking too long to execute even with a few epochs, so I reduced it to fewer samples like 200, 400 etc.**"
      ]
    },
    {
      "cell_type": "code",
      "metadata": {
        "id": "upGwMJaz5zWH",
        "colab": {
          "base_uri": "https://localhost:8080/"
        },
        "outputId": "c0ea8a4f-2a30-4de7-a901-cb9fb946b554"
      },
      "source": [
        "x_train_tfcirc_sub = x_train_tfcirc[:NUM_EXAMPLES]\n",
        "y_train_hinge_sub = y_train_hinge[:NUM_EXAMPLES]\n",
        "NUM_EXAMPLES"
      ],
      "execution_count": null,
      "outputs": [
        {
          "output_type": "execute_result",
          "data": {
            "text/plain": [
              "11800"
            ]
          },
          "metadata": {
            "tags": []
          },
          "execution_count": 41
        }
      ]
    },
    {
      "cell_type": "code",
      "metadata": {
        "id": "h0MtTOuLQcpk"
      },
      "source": [
        "x_train_tfcirc_sub = x_train_tfcirc[:200] # We try with 200 samples because NUM_EXAMPLES takes too long to execute\n",
        "y_train_hinge_sub = y_train_hinge[:200]"
      ],
      "execution_count": null,
      "outputs": []
    },
    {
      "cell_type": "code",
      "metadata": {
        "id": "Ya9qP3KkojiM",
        "colab": {
          "base_uri": "https://localhost:8080/"
        },
        "outputId": "bf3c732e-a602-47d1-e445-b804339bc6b3"
      },
      "source": [
        "qnn_history = model.fit(\n",
        "      x_train_tfcirc_sub, y_train_hinge_sub,\n",
        "      batch_size=32,\n",
        "      epochs=EPOCHS,\n",
        "      verbose=1,\n",
        "      validation_data=(x_test_tfcirc, y_test_hinge))\n",
        "\n",
        "qnn_results = model.evaluate(x_test_tfcirc, y_test)"
      ],
      "execution_count": null,
      "outputs": [
        {
          "output_type": "stream",
          "text": [
            "Epoch 1/5\n",
            "369/369 [==============================] - 12s 32ms/step - loss: 1.0000 - hinge_accuracy: 0.5880 - val_loss: 1.0000 - val_hinge_accuracy: 0.7362\n",
            "Epoch 2/5\n",
            "369/369 [==============================] - 12s 32ms/step - loss: 1.0000 - hinge_accuracy: 0.7112 - val_loss: 1.0000 - val_hinge_accuracy: 0.7307\n",
            "Epoch 3/5\n",
            "369/369 [==============================] - 12s 32ms/step - loss: 1.0000 - hinge_accuracy: 0.7088 - val_loss: 1.0000 - val_hinge_accuracy: 0.7307\n",
            "Epoch 4/5\n",
            "369/369 [==============================] - 13s 34ms/step - loss: 1.0000 - hinge_accuracy: 0.7087 - val_loss: 1.0000 - val_hinge_accuracy: 0.7307\n",
            "Epoch 5/5\n",
            "369/369 [==============================] - 13s 35ms/step - loss: 1.0000 - hinge_accuracy: 0.7086 - val_loss: 1.0000 - val_hinge_accuracy: 0.7312\n",
            "63/63 [==============================] - 1s 16ms/step - loss: 1.0000 - hinge_accuracy: 0.7312\n"
          ],
          "name": "stdout"
        }
      ]
    },
    {
      "cell_type": "code",
      "metadata": {
        "id": "HzRxvzP5Sp6r"
      },
      "source": [
        "model.compile(\n",
        "    loss=tf.keras.losses.Hinge(),\n",
        "    optimizer=tf.keras.optimizers.Adam(),\n",
        "    metrics=[hinge_accuracy])"
      ],
      "execution_count": null,
      "outputs": []
    },
    {
      "cell_type": "code",
      "metadata": {
        "colab": {
          "base_uri": "https://localhost:8080/"
        },
        "id": "9DoHfKdHsN3T",
        "outputId": "397e3150-479a-4c79-8b91-cdf24a1ac7d5"
      },
      "source": [
        "EPOCHS = 5\n",
        "BATCH_SIZE = 18\n",
        "x_train_tfcirc_sub = x_train_tfcirc[:7000] \n",
        "y_train_hinge_sub = y_train_hinge[:7000]\n",
        "\n",
        "qnn_history = model.fit(\n",
        "      x_train_tfcirc_sub, y_train_hinge_sub,\n",
        "      batch_size=32,\n",
        "      epochs=EPOCHS,\n",
        "      verbose=1,\n",
        "      validation_data=(x_test_tfcirc, y_test_hinge))\n",
        "\n",
        "qnn_results = model.evaluate(x_test_tfcirc, y_test)"
      ],
      "execution_count": null,
      "outputs": [
        {
          "output_type": "stream",
          "text": [
            "Epoch 1/5\n",
            "219/219 [==============================] - 8s 35ms/step - loss: 1.0000 - hinge_accuracy: 0.7062 - val_loss: 1.0000 - val_hinge_accuracy: 0.7312\n",
            "Epoch 2/5\n",
            "219/219 [==============================] - 7s 34ms/step - loss: 1.0000 - hinge_accuracy: 0.7063 - val_loss: 1.0000 - val_hinge_accuracy: 0.7312\n",
            "Epoch 3/5\n",
            "219/219 [==============================] - 7s 32ms/step - loss: 1.0000 - hinge_accuracy: 0.7061 - val_loss: 1.0000 - val_hinge_accuracy: 0.7307\n",
            "Epoch 4/5\n",
            "219/219 [==============================] - 7s 32ms/step - loss: 1.0000 - hinge_accuracy: 0.7063 - val_loss: 1.0000 - val_hinge_accuracy: 0.7307\n",
            "Epoch 5/5\n",
            "219/219 [==============================] - 7s 32ms/step - loss: 1.0000 - hinge_accuracy: 0.7064 - val_loss: 1.0000 - val_hinge_accuracy: 0.7307\n",
            "63/63 [==============================] - 1s 14ms/step - loss: 1.0000 - hinge_accuracy: 0.7307\n"
          ],
          "name": "stdout"
        }
      ]
    },
    {
      "cell_type": "code",
      "metadata": {
        "id": "LDUna7w6sOAN"
      },
      "source": [
        ""
      ],
      "execution_count": null,
      "outputs": []
    },
    {
      "cell_type": "code",
      "metadata": {
        "colab": {
          "base_uri": "https://localhost:8080/"
        },
        "id": "0b77Y-3ZsOH5",
        "outputId": "2d797aeb-678f-40b4-b511-87546d37d10c"
      },
      "source": [
        "EPOCHS = 5\n",
        "BATCH_SIZE = 18\n",
        "x_train_tfcirc_sub = x_train_tfcirc[:9000] \n",
        "y_train_hinge_sub = y_train_hinge[:9000]\n",
        "\n",
        "qnn_history = model.fit(\n",
        "      x_train_tfcirc_sub, y_train_hinge_sub,\n",
        "      batch_size=32,\n",
        "      epochs=EPOCHS,\n",
        "      verbose=1,\n",
        "      validation_data=(x_test_tfcirc, y_test_hinge))\n",
        "\n",
        "qnn_results = model.evaluate(x_test_tfcirc, y_test)"
      ],
      "execution_count": null,
      "outputs": [
        {
          "output_type": "stream",
          "text": [
            "Epoch 1/5\n",
            "282/282 [==============================] - 9s 32ms/step - loss: 1.0000 - hinge_accuracy: 0.7071 - val_loss: 1.0000 - val_hinge_accuracy: 0.7357\n",
            "Epoch 2/5\n",
            "282/282 [==============================] - 9s 32ms/step - loss: 1.0000 - hinge_accuracy: 0.7119 - val_loss: 1.0000 - val_hinge_accuracy: 0.7372\n",
            "Epoch 3/5\n",
            "282/282 [==============================] - 9s 32ms/step - loss: 1.0000 - hinge_accuracy: 0.7159 - val_loss: 1.0000 - val_hinge_accuracy: 0.7417\n",
            "Epoch 4/5\n",
            "282/282 [==============================] - 10s 34ms/step - loss: 1.0000 - hinge_accuracy: 0.7172 - val_loss: 1.0000 - val_hinge_accuracy: 0.7467\n",
            "Epoch 5/5\n",
            "282/282 [==============================] - 10s 34ms/step - loss: 1.0000 - hinge_accuracy: 0.7190 - val_loss: 1.0000 - val_hinge_accuracy: 0.7422\n",
            "63/63 [==============================] - 1s 15ms/step - loss: 1.0000 - hinge_accuracy: 0.7422\n"
          ],
          "name": "stdout"
        }
      ]
    },
    {
      "cell_type": "code",
      "metadata": {
        "id": "l8u_3enNsOLk"
      },
      "source": [
        ""
      ],
      "execution_count": null,
      "outputs": []
    },
    {
      "cell_type": "code",
      "metadata": {
        "id": "korZSJHJsOOX"
      },
      "source": [
        ""
      ],
      "execution_count": null,
      "outputs": []
    },
    {
      "cell_type": "code",
      "metadata": {
        "id": "rzD_RyxdsORO"
      },
      "source": [
        ""
      ],
      "execution_count": null,
      "outputs": []
    },
    {
      "cell_type": "code",
      "metadata": {
        "id": "7REdoLdMsOUE"
      },
      "source": [
        ""
      ],
      "execution_count": null,
      "outputs": []
    },
    {
      "cell_type": "code",
      "metadata": {
        "id": "qevaCPoKsOW5"
      },
      "source": [
        ""
      ],
      "execution_count": null,
      "outputs": []
    },
    {
      "cell_type": "code",
      "metadata": {
        "id": "DOE6qpwesOZp"
      },
      "source": [
        ""
      ],
      "execution_count": null,
      "outputs": []
    },
    {
      "cell_type": "code",
      "metadata": {
        "colab": {
          "base_uri": "https://localhost:8080/"
        },
        "id": "Kp3szSOsStNG",
        "outputId": "ae15ed74-b3cf-4bdf-c66b-c3c6b3941431"
      },
      "source": [
        "print(model.summary())"
      ],
      "execution_count": null,
      "outputs": [
        {
          "output_type": "stream",
          "text": [
            "Model: \"sequential\"\n",
            "_________________________________________________________________\n",
            "Layer (type)                 Output Shape              Param #   \n",
            "=================================================================\n",
            "pqc (PQC)                    (None, 1)                 32        \n",
            "=================================================================\n",
            "Total params: 32\n",
            "Trainable params: 32\n",
            "Non-trainable params: 0\n",
            "_________________________________________________________________\n",
            "None\n"
          ],
          "name": "stdout"
        }
      ]
    },
    {
      "cell_type": "code",
      "metadata": {
        "id": "jun_oQSK9rRT"
      },
      "source": [
        "x_train_tfcirc_sub = x_train_tfcirc[:200]\n",
        "y_train_hinge_sub = y_train_hinge[:200]"
      ],
      "execution_count": null,
      "outputs": []
    },
    {
      "cell_type": "code",
      "metadata": {
        "colab": {
          "base_uri": "https://localhost:8080/"
        },
        "id": "2E_1b5op9xlu",
        "outputId": "bb8ed67a-785a-4d49-fa32-ec7682367f30"
      },
      "source": [
        "qnn_history = model.fit(\n",
        "      x_train_tfcirc_sub, y_train_hinge_sub,\n",
        "      batch_size=32,\n",
        "      epochs=EPOCHS,\n",
        "      verbose=1,\n",
        "      validation_data=(x_test_tfcirc, y_test_hinge))\n",
        "\n",
        "qnn_results = model.evaluate(x_test_tfcirc, y_test)"
      ],
      "execution_count": null,
      "outputs": [
        {
          "output_type": "stream",
          "text": [
            "Epoch 1/3\n",
            "7/7 [==============================] - 37s 6s/step - loss: 1.0005 - hinge_accuracy: 0.5112 - val_loss: 1.0002 - val_hinge_accuracy: 0.4612\n",
            "Epoch 2/3\n",
            "7/7 [==============================] - 37s 6s/step - loss: 0.9998 - hinge_accuracy: 0.5036 - val_loss: 0.9995 - val_hinge_accuracy: 0.5244\n",
            "Epoch 3/3\n",
            "7/7 [==============================] - 37s 6s/step - loss: 0.9999 - hinge_accuracy: 0.4755 - val_loss: 0.9991 - val_hinge_accuracy: 0.5333\n",
            "63/63 [==============================] - 25s 390ms/step - loss: 0.9991 - hinge_accuracy: 0.5333\n"
          ],
          "name": "stdout"
        }
      ]
    },
    {
      "cell_type": "markdown",
      "metadata": {
        "id": "atxA-Hw4TpH7"
      },
      "source": [
        "## **200, epochs 3 , optimizer = Adagrad    53.38**\n",
        "\n",
        "\n"
      ]
    },
    {
      "cell_type": "code",
      "metadata": {
        "id": "jkZ9daqLUDYm"
      },
      "source": [
        "model.compile(\n",
        "    loss=tf.keras.losses.Hinge(),\n",
        "    optimizer=tf.keras.optimizers.Adagrad(),\n",
        "    metrics=[hinge_accuracy])"
      ],
      "execution_count": null,
      "outputs": []
    },
    {
      "cell_type": "code",
      "metadata": {
        "colab": {
          "base_uri": "https://localhost:8080/"
        },
        "id": "f-wkunOwUD1C",
        "outputId": "e08405e2-a51d-4b79-e9d1-3f277a787c1b"
      },
      "source": [
        "print(model.summary())"
      ],
      "execution_count": null,
      "outputs": [
        {
          "output_type": "stream",
          "text": [
            "Model: \"sequential\"\n",
            "_________________________________________________________________\n",
            "Layer (type)                 Output Shape              Param #   \n",
            "=================================================================\n",
            "pqc (PQC)                    (None, 1)                 32        \n",
            "=================================================================\n",
            "Total params: 32\n",
            "Trainable params: 32\n",
            "Non-trainable params: 0\n",
            "_________________________________________________________________\n",
            "None\n"
          ],
          "name": "stdout"
        }
      ]
    },
    {
      "cell_type": "code",
      "metadata": {
        "id": "JbkQp9ERUD9G"
      },
      "source": [
        "x_train_tfcirc_sub = x_train_tfcirc[:200]\n",
        "y_train_hinge_sub = y_train_hinge[:200]"
      ],
      "execution_count": null,
      "outputs": []
    },
    {
      "cell_type": "code",
      "metadata": {
        "colab": {
          "base_uri": "https://localhost:8080/"
        },
        "id": "0oePRj_kUEFF",
        "outputId": "bdb63886-8ec3-4363-c60b-9dce5ade3976"
      },
      "source": [
        "qnn_history = model.fit(\n",
        "      x_train_tfcirc_sub, y_train_hinge_sub,\n",
        "      batch_size=32,\n",
        "      epochs=EPOCHS,\n",
        "      verbose=1,\n",
        "      validation_data=(x_test_tfcirc, y_test_hinge))\n",
        "\n",
        "qnn_results = model.evaluate(x_test_tfcirc, y_test)"
      ],
      "execution_count": null,
      "outputs": [
        {
          "output_type": "stream",
          "text": [
            "Epoch 1/3\n",
            "7/7 [==============================] - 37s 6s/step - loss: 1.0000 - hinge_accuracy: 0.4809 - val_loss: 0.9991 - val_hinge_accuracy: 0.5333\n",
            "Epoch 2/3\n",
            "7/7 [==============================] - 36s 6s/step - loss: 0.9993 - hinge_accuracy: 0.5033 - val_loss: 0.9990 - val_hinge_accuracy: 0.5333\n",
            "Epoch 3/3\n",
            "7/7 [==============================] - 36s 6s/step - loss: 0.9985 - hinge_accuracy: 0.5257 - val_loss: 0.9990 - val_hinge_accuracy: 0.5338\n",
            "63/63 [==============================] - 25s 388ms/step - loss: 0.9990 - hinge_accuracy: 0.5338\n"
          ],
          "name": "stdout"
        }
      ]
    },
    {
      "cell_type": "markdown",
      "metadata": {
        "id": "iMNmBHU_VIbH"
      },
      "source": [
        "## 200, epochs 3 , optimizer= Nadam  , 54.87 %\n",
        "\n"
      ]
    },
    {
      "cell_type": "code",
      "metadata": {
        "id": "CMfauc4YVxq-"
      },
      "source": [
        "model.compile(\n",
        "    loss=tf.keras.losses.Hinge(),\n",
        "    optimizer=tf.keras.optimizers.Nadam(),\n",
        "    metrics=[hinge_accuracy])"
      ],
      "execution_count": null,
      "outputs": []
    },
    {
      "cell_type": "code",
      "metadata": {
        "colab": {
          "base_uri": "https://localhost:8080/"
        },
        "id": "l5XExtVoVx8Z",
        "outputId": "5a2ee0ac-21ec-40b2-9285-af58ae1aae41"
      },
      "source": [
        "print(model.summary())"
      ],
      "execution_count": null,
      "outputs": [
        {
          "output_type": "stream",
          "text": [
            "Model: \"sequential\"\n",
            "_________________________________________________________________\n",
            "Layer (type)                 Output Shape              Param #   \n",
            "=================================================================\n",
            "pqc (PQC)                    (None, 1)                 32        \n",
            "=================================================================\n",
            "Total params: 32\n",
            "Trainable params: 32\n",
            "Non-trainable params: 0\n",
            "_________________________________________________________________\n",
            "None\n"
          ],
          "name": "stdout"
        }
      ]
    },
    {
      "cell_type": "code",
      "metadata": {
        "id": "JPL7SwsBVyE8"
      },
      "source": [
        "x_train_tfcirc_sub = x_train_tfcirc[:200]\n",
        "y_train_hinge_sub = y_train_hinge[:200]"
      ],
      "execution_count": null,
      "outputs": []
    },
    {
      "cell_type": "code",
      "metadata": {
        "colab": {
          "base_uri": "https://localhost:8080/"
        },
        "id": "gc4e_gV7VyMU",
        "outputId": "e858d642-5b9e-4664-8a70-a5e5eaba36a1"
      },
      "source": [
        "qnn_history = model.fit(\n",
        "      x_train_tfcirc_sub, y_train_hinge_sub,\n",
        "      batch_size=32,\n",
        "      epochs=EPOCHS,\n",
        "      verbose=1,\n",
        "      validation_data=(x_test_tfcirc, y_test_hinge))\n",
        "\n",
        "qnn_results = model.evaluate(x_test_tfcirc, y_test)"
      ],
      "execution_count": null,
      "outputs": [
        {
          "output_type": "stream",
          "text": [
            "Epoch 1/3\n",
            "7/7 [==============================] - 37s 6s/step - loss: 0.9997 - hinge_accuracy: 0.4834 - val_loss: 0.9986 - val_hinge_accuracy: 0.5522\n",
            "Epoch 2/3\n",
            "7/7 [==============================] - 37s 6s/step - loss: 0.9991 - hinge_accuracy: 0.5044 - val_loss: 0.9980 - val_hinge_accuracy: 0.5522\n",
            "Epoch 3/3\n",
            "7/7 [==============================] - 37s 6s/step - loss: 0.9977 - hinge_accuracy: 0.5248 - val_loss: 0.9973 - val_hinge_accuracy: 0.5487\n",
            "63/63 [==============================] - 25s 390ms/step - loss: 0.9973 - hinge_accuracy: 0.5487\n"
          ],
          "name": "stdout"
        }
      ]
    },
    {
      "cell_type": "markdown",
      "metadata": {
        "id": "1aVMRDMRWGQg"
      },
      "source": [
        ""
      ]
    },
    {
      "cell_type": "code",
      "metadata": {
        "id": "tJOowlCL-ojj"
      },
      "source": [
        "x_train_tfcirc_sub = x_train_tfcirc[:75]\n",
        "y_train_hinge_sub = y_train_hinge[:75]"
      ],
      "execution_count": null,
      "outputs": []
    },
    {
      "cell_type": "code",
      "metadata": {
        "colab": {
          "base_uri": "https://localhost:8080/"
        },
        "id": "aKkYnBt2-yDC",
        "outputId": "e616d49a-388c-49b3-a20d-29f3cbbb2679"
      },
      "source": [
        "qnn_history = model.fit(\n",
        "      x_train_tfcirc_sub, y_train_hinge_sub,\n",
        "      batch_size=32,\n",
        "      epochs=EPOCHS,\n",
        "      verbose=1,\n",
        "      validation_data=(x_test_tfcirc, y_test_hinge))\n",
        "\n",
        "qnn_results = model.evaluate(x_test_tfcirc, y_test)"
      ],
      "execution_count": null,
      "outputs": [
        {
          "output_type": "stream",
          "text": [
            "Epoch 1/3\n",
            "3/3 [==============================] - 31s 14s/step - loss: 0.9881 - hinge_accuracy: 0.5777 - val_loss: 0.9844 - val_hinge_accuracy: 0.6817\n",
            "Epoch 2/3\n",
            "3/3 [==============================] - 31s 14s/step - loss: 0.9867 - hinge_accuracy: 0.6174 - val_loss: 0.9841 - val_hinge_accuracy: 0.6817\n",
            "Epoch 3/3\n",
            "3/3 [==============================] - 31s 14s/step - loss: 0.9855 - hinge_accuracy: 0.5578 - val_loss: 0.9837 - val_hinge_accuracy: 0.6727\n",
            "63/63 [==============================] - 26s 412ms/step - loss: 0.9837 - hinge_accuracy: 0.6727\n"
          ],
          "name": "stdout"
        }
      ]
    },
    {
      "cell_type": "code",
      "metadata": {
        "id": "MmaXjEyrI4Mu"
      },
      "source": [
        "x_train_tfcirc_sub = x_train_tfcirc[:20]\n",
        "y_train_hinge_sub = y_train_hinge[:20]"
      ],
      "execution_count": null,
      "outputs": []
    },
    {
      "cell_type": "code",
      "metadata": {
        "colab": {
          "base_uri": "https://localhost:8080/"
        },
        "id": "qwKmBaACI_wg",
        "outputId": "7ea1b26b-3302-4fcd-d11d-c77f94258691"
      },
      "source": [
        "qnn_history = model.fit(\n",
        "      x_train_tfcirc_sub, y_train_hinge_sub,\n",
        "      batch_size=32,\n",
        "      epochs=EPOCHS,\n",
        "      verbose=1,\n",
        "      validation_data=(x_test_tfcirc, y_test_hinge))\n",
        "\n",
        "qnn_results = model.evaluate(x_test_tfcirc, y_test)"
      ],
      "execution_count": null,
      "outputs": [
        {
          "output_type": "stream",
          "text": [
            "Epoch 1/3\n",
            "1/1 [==============================] - 27s 27s/step - loss: 0.9854 - hinge_accuracy: 0.5500 - val_loss: 0.9835 - val_hinge_accuracy: 0.6563\n",
            "Epoch 2/3\n",
            "1/1 [==============================] - 27s 27s/step - loss: 0.9850 - hinge_accuracy: 0.5500 - val_loss: 0.9834 - val_hinge_accuracy: 0.6563\n",
            "Epoch 3/3\n",
            "1/1 [==============================] - 27s 27s/step - loss: 0.9845 - hinge_accuracy: 0.5500 - val_loss: 0.9832 - val_hinge_accuracy: 0.6638\n",
            "63/63 [==============================] - 26s 412ms/step - loss: 0.9832 - hinge_accuracy: 0.6638\n"
          ],
          "name": "stdout"
        }
      ]
    },
    {
      "cell_type": "code",
      "metadata": {
        "colab": {
          "base_uri": "https://localhost:8080/"
        },
        "id": "KqwP0R_YMXOp",
        "outputId": "9267db6c-6440-47ab-d386-abe42ab60941"
      },
      "source": [
        "NUM_EXAMPLES"
      ],
      "execution_count": null,
      "outputs": [
        {
          "output_type": "execute_result",
          "data": {
            "text/plain": [
              "10409"
            ]
          },
          "metadata": {
            "tags": []
          },
          "execution_count": 36
        }
      ]
    },
    {
      "cell_type": "code",
      "metadata": {
        "id": "WcVULXIBMean"
      },
      "source": [
        "x_train_tfcirc_sub = x_train_tfcirc[:100]\n",
        "y_train_hinge_sub = y_train_hinge[:100]"
      ],
      "execution_count": null,
      "outputs": []
    },
    {
      "cell_type": "code",
      "metadata": {
        "colab": {
          "base_uri": "https://localhost:8080/"
        },
        "id": "TXvhQWYvMjLC",
        "outputId": "e980ca2b-2b86-42bb-e4fe-0ae79ac7e071"
      },
      "source": [
        "qnn_history = model.fit(\n",
        "      x_train_tfcirc_sub, y_train_hinge_sub,\n",
        "      batch_size=32,\n",
        "      epochs=EPOCHS,\n",
        "      verbose=1,\n",
        "      validation_data=(x_test_tfcirc, y_test_hinge))\n",
        "\n",
        "qnn_results = model.evaluate(x_test_tfcirc, y_test)"
      ],
      "execution_count": null,
      "outputs": [
        {
          "output_type": "stream",
          "text": [
            "Epoch 1/3\n",
            "4/4 [==============================] - 32s 10s/step - loss: 0.9819 - hinge_accuracy: 0.6641 - val_loss: 0.9821 - val_hinge_accuracy: 0.6275\n",
            "Epoch 2/3\n",
            "4/4 [==============================] - 32s 10s/step - loss: 0.9803 - hinge_accuracy: 0.5703 - val_loss: 0.9803 - val_hinge_accuracy: 0.6469\n",
            "Epoch 3/3\n",
            "4/4 [==============================] - 32s 10s/step - loss: 0.9786 - hinge_accuracy: 0.7500 - val_loss: 0.9787 - val_hinge_accuracy: 0.6380\n",
            "63/63 [==============================] - 26s 413ms/step - loss: 0.9787 - hinge_accuracy: 0.6380\n"
          ],
          "name": "stdout"
        }
      ]
    },
    {
      "cell_type": "code",
      "metadata": {
        "id": "c0uoXLkrNWqe"
      },
      "source": [
        "x_train_tfcirc_sub = x_train_tfcirc[:NUM_EXAMPLES-10000]  #considering 409 as number of examples\n",
        "y_train_hinge_sub = y_train_hinge[:NUM_EXAMPLES-10000]"
      ],
      "execution_count": null,
      "outputs": []
    },
    {
      "cell_type": "code",
      "metadata": {
        "colab": {
          "base_uri": "https://localhost:8080/"
        },
        "id": "uxADi6JkNfG1",
        "outputId": "4e9329f9-b213-492a-f78c-6a933e1a8b52"
      },
      "source": [
        "qnn_history = model.fit(\n",
        "      x_train_tfcirc_sub, y_train_hinge_sub,\n",
        "      batch_size=32,\n",
        "      epochs=EPOCHS,\n",
        "      verbose=1,\n",
        "      validation_data=(x_test_tfcirc, y_test_hinge))\n",
        "\n",
        "qnn_results = model.evaluate(x_test_tfcirc, y_test)"
      ],
      "execution_count": null,
      "outputs": [
        {
          "output_type": "stream",
          "text": [
            "Epoch 1/3\n",
            "13/13 [==============================] - 54s 4s/step - loss: 0.9764 - hinge_accuracy: 0.6784 - val_loss: 0.9674 - val_hinge_accuracy: 0.6713\n",
            "Epoch 2/3\n",
            "13/13 [==============================] - 54s 4s/step - loss: 0.9619 - hinge_accuracy: 0.6804 - val_loss: 0.9563 - val_hinge_accuracy: 0.6827\n",
            "Epoch 3/3\n",
            "13/13 [==============================] - 54s 4s/step - loss: 0.9474 - hinge_accuracy: 0.7023 - val_loss: 0.9415 - val_hinge_accuracy: 0.6843\n",
            "63/63 [==============================] - 26s 413ms/step - loss: 0.9415 - hinge_accuracy: 0.6843\n"
          ],
          "name": "stdout"
        }
      ]
    },
    {
      "cell_type": "code",
      "metadata": {
        "id": "JxKP9CUWPgxT"
      },
      "source": [
        "x_train_tfcirc_sub = x_train_tfcirc[:500]  #considering 500 as number of examples\n",
        "y_train_hinge_sub = y_train_hinge[:500]"
      ],
      "execution_count": null,
      "outputs": []
    },
    {
      "cell_type": "code",
      "metadata": {
        "colab": {
          "base_uri": "https://localhost:8080/"
        },
        "id": "IzmHopuPPnlY",
        "outputId": "eb67655c-2c02-4df1-f8ab-df63da2c3163"
      },
      "source": [
        "qnn_history = model.fit(\n",
        "      x_train_tfcirc_sub, y_train_hinge_sub,\n",
        "      batch_size=32,\n",
        "      epochs=EPOCHS,\n",
        "      verbose=1,\n",
        "      validation_data=(x_test_tfcirc, y_test_hinge))\n",
        "\n",
        "qnn_results = model.evaluate(x_test_tfcirc, y_test)"
      ],
      "execution_count": null,
      "outputs": [
        {
          "output_type": "stream",
          "text": [
            "Epoch 1/3\n",
            "16/16 [==============================] - 61s 4s/step - loss: 0.9288 - hinge_accuracy: 0.6879 - val_loss: 0.9166 - val_hinge_accuracy: 0.6788\n",
            "Epoch 2/3\n",
            "16/16 [==============================] - 61s 4s/step - loss: 0.9018 - hinge_accuracy: 0.6824 - val_loss: 0.8878 - val_hinge_accuracy: 0.6768\n",
            "Epoch 3/3\n",
            "16/16 [==============================] - 61s 4s/step - loss: 0.8686 - hinge_accuracy: 0.6824 - val_loss: 0.8520 - val_hinge_accuracy: 0.6931\n",
            "63/63 [==============================] - 26s 414ms/step - loss: 0.8520 - hinge_accuracy: 0.6931\n"
          ],
          "name": "stdout"
        }
      ]
    },
    {
      "cell_type": "code",
      "metadata": {
        "id": "T6K2_8LLSiZd"
      },
      "source": [
        "model.compile(\n",
        "    loss=tf.keras.losses.Hinge(),\n",
        "    optimizer=tf.keras.optimizers.SGD(),\n",
        "    metrics=[hinge_accuracy])"
      ],
      "execution_count": null,
      "outputs": []
    },
    {
      "cell_type": "code",
      "metadata": {
        "colab": {
          "base_uri": "https://localhost:8080/"
        },
        "id": "ONP9ogfzSnPG",
        "outputId": "d7ec3125-4cef-438b-a603-dd0c92fe1461"
      },
      "source": [
        "print(model.summary())"
      ],
      "execution_count": null,
      "outputs": [
        {
          "output_type": "stream",
          "text": [
            "Model: \"sequential_1\"\n",
            "_________________________________________________________________\n",
            "Layer (type)                 Output Shape              Param #   \n",
            "=================================================================\n",
            "pqc_1 (PQC)                  (None, 1)                 32        \n",
            "=================================================================\n",
            "Total params: 32\n",
            "Trainable params: 32\n",
            "Non-trainable params: 0\n",
            "_________________________________________________________________\n",
            "None\n"
          ],
          "name": "stdout"
        }
      ]
    },
    {
      "cell_type": "code",
      "metadata": {
        "id": "prlw_znCTEfv"
      },
      "source": [
        "x_train_tfcirc_sub = x_train_tfcirc[:500]  #considering 500 as number of examples\n",
        "y_train_hinge_sub = y_train_hinge[:500]"
      ],
      "execution_count": null,
      "outputs": []
    },
    {
      "cell_type": "code",
      "metadata": {
        "colab": {
          "base_uri": "https://localhost:8080/"
        },
        "id": "WUZs8KnWTKUu",
        "outputId": "3f32b739-c989-4321-fd25-fd073f64ee6c"
      },
      "source": [
        "qnn_history = model.fit(\n",
        "      x_train_tfcirc_sub, y_train_hinge_sub,\n",
        "      batch_size=32,\n",
        "      epochs=EPOCHS,\n",
        "      verbose=1,\n",
        "      validation_data=(x_test_tfcirc, y_test_hinge))\n",
        "\n",
        "qnn_results = model.evaluate(x_test_tfcirc, y_test)"
      ],
      "execution_count": null,
      "outputs": [
        {
          "output_type": "stream",
          "text": [
            "Epoch 1/3\n",
            "16/16 [==============================] - 61s 4s/step - loss: 0.8288 - hinge_accuracy: 0.6912 - val_loss: 0.7912 - val_hinge_accuracy: 0.6981\n",
            "Epoch 2/3\n",
            "16/16 [==============================] - 61s 4s/step - loss: 0.7514 - hinge_accuracy: 0.7108 - val_loss: 0.7219 - val_hinge_accuracy: 0.6981\n",
            "Epoch 3/3\n",
            "16/16 [==============================] - 61s 4s/step - loss: 0.7002 - hinge_accuracy: 0.6977 - val_loss: 0.6744 - val_hinge_accuracy: 0.6981\n",
            "63/63 [==============================] - 26s 414ms/step - loss: 0.6744 - hinge_accuracy: 0.6981\n"
          ],
          "name": "stdout"
        }
      ]
    }
  ]
}